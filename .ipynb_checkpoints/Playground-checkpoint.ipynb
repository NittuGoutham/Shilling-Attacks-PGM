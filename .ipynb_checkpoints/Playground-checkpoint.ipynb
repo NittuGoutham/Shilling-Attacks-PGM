{
 "cells": [
  {
   "cell_type": "markdown",
   "metadata": {},
   "source": [
    "## Library Dependencies"
   ]
  },
  {
   "cell_type": "code",
   "execution_count": 2,
   "metadata": {},
   "outputs": [],
   "source": [
    "import numpy as np"
   ]
  },
  {
   "cell_type": "markdown",
   "metadata": {},
   "source": [
    "## Framework Statistics"
   ]
  },
  {
   "cell_type": "code",
   "execution_count": 3,
   "metadata": {},
   "outputs": [],
   "source": [
    "min_rating = 1\n",
    "max_rating = 5\n",
    "\n",
    "num_users = 10\n",
    "num_items = 5"
   ]
  },
  {
   "cell_type": "markdown",
   "metadata": {},
   "source": [
    "## Framework Initializations"
   ]
  },
  {
   "cell_type": "code",
   "execution_count": 4,
   "metadata": {},
   "outputs": [
    {
     "name": "stdout",
     "output_type": "stream",
     "text": [
      "[0, 0, 1, 1, 0, 0, 1, 0, 1, 1]\n",
      "[0, 0, 1, 0, 1]\n"
     ]
    }
   ],
   "source": [
    "m = np.random.rand(num_users)\n",
    "m = [1  if i>0.5  else 0 for i in m]\n",
    "\n",
    "t = np.random.rand(num_items)\n",
    "t = [1  if i>0.5  else 0 for i in t]\n",
    "\n",
    "print (m)\n",
    "print (t)\n"
   ]
  },
  {
   "cell_type": "markdown",
   "metadata": {},
   "source": [
    "## Rating Matrix (Data) Initialization"
   ]
  },
  {
   "cell_type": "code",
   "execution_count": 5,
   "metadata": {},
   "outputs": [
    {
     "name": "stdout",
     "output_type": "stream",
     "text": [
      "[[4 2 4 1 2]\n",
      " [1 3 2 3 1]\n",
      " [5 4 2 3 3]\n",
      " [1 4 2 1 2]\n",
      " [4 4 5 1 4]\n",
      " [1 2 1 3 1]\n",
      " [2 5 4 1 3]\n",
      " [4 2 1 3 2]\n",
      " [4 1 5 4 4]\n",
      " [2 4 5 5 4]]\n"
     ]
    }
   ],
   "source": [
    "R = np.random.randint(min_rating,max_rating+1,(num_users,num_items))\n",
    "print (R)"
   ]
  },
  {
   "cell_type": "markdown",
   "metadata": {},
   "source": [
    "## Calculation of Rating Bias for Every Item"
   ]
  },
  {
   "cell_type": "code",
   "execution_count": 8,
   "metadata": {},
   "outputs": [
    {
     "name": "stdout",
     "output_type": "stream",
     "text": [
      "[-2.2444444444444445, -2.5444444444444443, -1.842857142857143, -1.9444444444444444, -2.3399999999999999]\n"
     ]
    }
   ],
   "source": [
    "r_item_bias = []\n",
    "\n",
    "for item in range(0,num_items):\n",
    "    item_ratings = R[:,item]\n",
    "    m_i = (item_ratings == max_rating)\n",
    "    r_i = ((sum(item_ratings)/num_users) - (sum(item_ratings) - max_rating*sum(m_i)))/(num_users - sum(m_i))\n",
    "    r_item_bias.append(((sum(item_ratings)/num_users) - (sum(item_ratings) - max_rating*sum(m_i)))/(num_users - sum(m_i)))\n",
    "    \n",
    "print (r_item_bias)"
   ]
  },
  {
   "cell_type": "markdown",
   "metadata": {},
   "source": [
    "## Calculation of Factor f "
   ]
  },
  {
   "cell_type": "code",
   "execution_count": 9,
   "metadata": {},
   "outputs": [
    {
     "name": "stdout",
     "output_type": "stream",
     "text": [
      "[0.55834411912445747, 0.5657285191262712, 0.45158078213393843, 0.55093382556372272, 0.43930085031774707]\n"
     ]
    }
   ],
   "source": [
    "alpha_t = -0.1\n",
    "del_r = 0.1\n",
    "\n",
    "f = []\n",
    "\n",
    "for item in range(0,num_items):\n",
    "    f_i = 1/(1 + np.exp(np.power(-1,1-t[item])*alpha_t*(r_item_bias[item] - del_r)))\n",
    "    f.append(f_i)\n",
    "    \n",
    "print (f)"
   ]
  },
  {
   "cell_type": "markdown",
   "metadata": {},
   "source": [
    "## Calculation of Factor h"
   ]
  },
  {
   "cell_type": "code",
   "execution_count": 10,
   "metadata": {},
   "outputs": [
    {
     "name": "stdout",
     "output_type": "stream",
     "text": [
      "[0.5513186483782152, 0.53469415749498939, 0.44053279970872855, 0.54363868723707887, 0.47153082543987801]\n"
     ]
    }
   ],
   "source": [
    "phi = np.var(R,axis = 0)\n",
    "beta_2 = 0.1\n",
    "tau_2 = 0.1\n",
    "\n",
    "h = []\n",
    "\n",
    "for item in range(0,num_items):\n",
    "    h_i = 1/(1 + np.exp(np.power(-1,1 - t[item])*beta_2*(phi[item]-tau_2)))\n",
    "    h.append(h_i)\n",
    "    \n",
    "print (h)    \n",
    "    "
   ]
  },
  {
   "cell_type": "markdown",
   "metadata": {},
   "source": [
    "## Calculation of phi for every User"
   ]
  },
  {
   "cell_type": "code",
   "execution_count": 38,
   "metadata": {},
   "outputs": [
    {
     "name": "stdout",
     "output_type": "stream",
     "text": [
      "[0.27307692307692305, 0.17300000000000001, 0.15583333333333335, 0.43999999999999995, 0.51461538461538459, 1.0362500000000001, 0.68300000000000005, 0.88666666666666671, 0.79153846153846152, 0.75299999999999989]\n"
     ]
    }
   ],
   "source": [
    "phi = []\n",
    "average_item = np.average(R,axis = 0)\n",
    "\n",
    "for user in range(0,num_users):\n",
    "    ratings_u = R[user,:]\n",
    "    I_non_max_u = ratings_u[ratings_u<max_rating]\n",
    "    phi_u = sum(np.power(ratings_u[I_non_max_u] - average_item[I_non_max_u],2))/(sum(I_non_max_u))\n",
    "    phi.append(phi_u)\n",
    "    \n",
    "print (phi)"
   ]
  },
  {
   "cell_type": "markdown",
   "metadata": {},
   "source": [
    "## Calculation of Factor g"
   ]
  },
  {
   "cell_type": "code",
   "execution_count": 39,
   "metadata": {},
   "outputs": [
    {
     "name": "stdout",
     "output_type": "stream",
     "text": [
      "[0.010871592860991559, 0.010870424621312868, 0.01086890375608846, 0.010865480669827414, 0.010874365749400334, 0.010880135010471395, 0.010862477101841796, 0.010878510665298772, 0.010861112313754862, 0.010861598563040501]\n"
     ]
    }
   ],
   "source": [
    "beta_1 = 0.1\n",
    "tau_1 = 0.1\n",
    "\n",
    "g = []\n",
    "\n",
    "for user in range(0,num_users):\n",
    "    g_u = 1/(91 + np.exp(np.power(-1,1-m[user])*beta_1*(phi[user] - tau_1)))\n",
    "    g.append(g_u)\n",
    "    \n",
    "print (g)\n",
    "    "
   ]
  },
  {
   "cell_type": "code",
   "execution_count": null,
   "metadata": {},
   "outputs": [],
   "source": []
  }
 ],
 "metadata": {
  "kernelspec": {
   "display_name": "Python 3",
   "language": "python",
   "name": "python3"
  },
  "language_info": {
   "codemirror_mode": {
    "name": "ipython",
    "version": 3
   },
   "file_extension": ".py",
   "mimetype": "text/x-python",
   "name": "python",
   "nbconvert_exporter": "python",
   "pygments_lexer": "ipython3",
   "version": "3.6.4"
  }
 },
 "nbformat": 4,
 "nbformat_minor": 2
}
