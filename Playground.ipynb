{
 "cells": [
  {
   "cell_type": "markdown",
   "metadata": {},
   "source": [
    "## Library Dependencies"
   ]
  },
  {
   "cell_type": "code",
   "execution_count": 86,
   "metadata": {},
   "outputs": [],
   "source": [
    "import numpy as np"
   ]
  },
  {
   "cell_type": "markdown",
   "metadata": {},
   "source": [
    "## Framework Statistics"
   ]
  },
  {
   "cell_type": "code",
   "execution_count": 87,
   "metadata": {},
   "outputs": [],
   "source": [
    "min_rating = 1\n",
    "max_rating = 5\n",
    "\n",
    "num_users = 10\n",
    "num_items = 5"
   ]
  },
  {
   "cell_type": "markdown",
   "metadata": {},
   "source": [
    "## Framework Initializations"
   ]
  },
  {
   "cell_type": "code",
   "execution_count": 88,
   "metadata": {},
   "outputs": [
    {
     "name": "stdout",
     "output_type": "stream",
     "text": [
      "[1, 0, 0, 1, 1, 1, 1, 0, 1, 0]\n",
      "[1, 0, 0, 0, 1]\n"
     ]
    }
   ],
   "source": [
    "m = np.random.rand(num_users)\n",
    "m = [1  if i>0.5  else 0 for i in m]\n",
    "\n",
    "t = np.random.rand(num_items)\n",
    "t = [1  if i>0.5  else 0 for i in t]\n",
    "\n",
    "print (m)\n",
    "print (t)\n"
   ]
  },
  {
   "cell_type": "markdown",
   "metadata": {},
   "source": [
    "## Rating Matrix (Data) Initialization"
   ]
  },
  {
   "cell_type": "code",
   "execution_count": 89,
   "metadata": {},
   "outputs": [
    {
     "name": "stdout",
     "output_type": "stream",
     "text": [
      "[[5 4 1 3 2]\n",
      " [5 1 5 1 3]\n",
      " [5 2 5 1 2]\n",
      " [1 1 4 1 5]\n",
      " [4 3 3 1 3]\n",
      " [2 2 4 2 4]\n",
      " [2 5 4 5 5]\n",
      " [3 3 4 2 5]\n",
      " [2 4 1 5 2]\n",
      " [5 5 2 4 5]]\n"
     ]
    }
   ],
   "source": [
    "R = np.random.randint(min_rating,max_rating+1,(num_users,num_items))\n",
    "print (R)"
   ]
  },
  {
   "cell_type": "markdown",
   "metadata": {},
   "source": [
    "## Calculation of Rating Bias for Every Item"
   ]
  },
  {
   "cell_type": "code",
   "execution_count": 90,
   "metadata": {},
   "outputs": [],
   "source": [
    "r_item_bias = []\n",
    "\n",
    "for item in range(0,num_items):\n",
    "    item_ratings = R[:,item]\n",
    "    m_i = (item_ratings == max_rating)\n",
    "    r_i = ((sum(item_ratings)/num_users) - (sum(item_ratings) - max_rating*sum(m_i)))/(num_users - sum(m_i))\n",
    "    r_item_bias.append(((sum(item_ratings)/num_users) - (sum(item_ratings) - max_rating*sum(m_i)))/(num_users - sum(m_i)))\n",
    "    "
   ]
  },
  {
   "cell_type": "markdown",
   "metadata": {},
   "source": [
    "## Calculation of Factor f "
   ]
  },
  {
   "cell_type": "code",
   "execution_count": 91,
   "metadata": {},
   "outputs": [
    {
     "name": "stdout",
     "output_type": "stream",
     "text": [
      "[0.45346836900139992, 0.55539664832058921, 0.56371423632845519, 0.5414670348035775, 0.44604424528039294]\n"
     ]
    }
   ],
   "source": [
    "alpha_t = -0.1\n",
    "del_r = 0.1\n",
    "\n",
    "f = []\n",
    "\n",
    "for item in range(0,num_items):\n",
    "    f_i = 1/(1 + np.exp(np.power(-1,1-t[item])*alpha_t*(r_item_bias[item] - del_r)))\n",
    "    f.append(f_i)\n",
    "    \n",
    "print (f)"
   ]
  },
  {
   "cell_type": "markdown",
   "metadata": {},
   "source": [
    "## Calculation of Factor h"
   ]
  },
  {
   "cell_type": "code",
   "execution_count": 95,
   "metadata": {},
   "outputs": [
    {
     "name": "stdout",
     "output_type": "stream",
     "text": [
      "[0.44670324311189713, 0.54735761814308936, 0.54760536364581069, 0.55848111243816134, 0.46157590881307359]\n"
     ]
    }
   ],
   "source": [
    "phi = np.var(R,axis = 0)\n",
    "beta_2 = 0.1\n",
    "tau_2 = 0.1\n",
    "\n",
    "h = []\n",
    "\n",
    "for item in range(0,num_items):\n",
    "    h_i = 1/(1 + np.exp(np.power(-1,1 - t[item])*beta_2*(phi[item]-tau_2)))\n",
    "    h.append(h_i)\n",
    "    \n",
    "print (h)    \n",
    "    "
   ]
  },
  {
   "cell_type": "code",
   "execution_count": 74,
   "metadata": {},
   "outputs": [],
   "source": []
  },
  {
   "cell_type": "code",
   "execution_count": null,
   "metadata": {},
   "outputs": [],
   "source": []
  },
  {
   "cell_type": "code",
   "execution_count": null,
   "metadata": {},
   "outputs": [],
   "source": []
  }
 ],
 "metadata": {
  "kernelspec": {
   "display_name": "Python 3",
   "language": "python",
   "name": "python3"
  },
  "language_info": {
   "codemirror_mode": {
    "name": "ipython",
    "version": 3
   },
   "file_extension": ".py",
   "mimetype": "text/x-python",
   "name": "python",
   "nbconvert_exporter": "python",
   "pygments_lexer": "ipython3",
   "version": "3.6.4"
  }
 },
 "nbformat": 4,
 "nbformat_minor": 2
}
